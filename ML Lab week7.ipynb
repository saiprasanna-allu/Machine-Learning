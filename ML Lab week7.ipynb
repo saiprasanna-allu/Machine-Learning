{
 "cells": [
  {
   "cell_type": "code",
   "execution_count": 2,
   "id": "6280082b",
   "metadata": {},
   "outputs": [
    {
     "name": "stdout",
     "output_type": "stream",
     "text": [
      "Mean:  13.0\n",
      "Variance:  2.5\n"
     ]
    }
   ],
   "source": [
    "'''1. Create a vector (array) of 1XN dimension representing N-dimensional feature vector of a sample. Write a program to\n",
    "compute the mean and variance of the elements present in the array.'''\n",
    "\n",
    "import numpy as np\n",
    "vector = np.array([11, 12, 13, 14, 15])\n",
    "mean = np.mean(vector)\n",
    "variance = np.var(vector, ddof=1)\n",
    "print(\"Mean: \", mean)\n",
    "print(\"Variance: \", variance)\n"
   ]
  },
  {
   "cell_type": "code",
   "execution_count": 7,
   "id": "8398153a",
   "metadata": {},
   "outputs": [
    {
     "name": "stdout",
     "output_type": "stream",
     "text": [
      "Covariance:  2.5\n"
     ]
    }
   ],
   "source": [
    "'''2.Create two vectors each of dimension 1XM each representing N-\n",
    "dimensional feature vector of a sample. Write a program to compute the Covariance between them.'''\n",
    "\n",
    "import numpy as np\n",
    "array1 = np.array([11, 12, 13, 14, 15])\n",
    "array2 = np.array([22, 23, 24, 25, 26])\n",
    "covariance_result = np.cov(array1, array2, ddof=1)[0][1]\n",
    "print(\"Covariance: \", covariance_result)\n"
   ]
  },
  {
   "cell_type": "code",
   "execution_count": 9,
   "id": "74079f4e",
   "metadata": {},
   "outputs": [
    {
     "name": "stdout",
     "output_type": "stream",
     "text": [
      "Correlation:  0.9999999999999999\n"
     ]
    }
   ],
   "source": [
    "'''3.Create two vectors each of dimension 1XN. Write a program to compute the Correlation between them.'''\n",
    "\n",
    "import numpy as np\n",
    "data_array1 = np.array([11, 12, 13, 14, 15])\n",
    "data_array2 = np.array([22, 23, 24, 25, 26])\n",
    "correlation_coefficient = np.corrcoef(data_array1, data_array2)[0][1]\n",
    "print(\"Correlation: \", correlation_coefficient)\n"
   ]
  },
  {
   "cell_type": "code",
   "execution_count": 10,
   "id": "307c6e99",
   "metadata": {},
   "outputs": [
    {
     "name": "stdout",
     "output_type": "stream",
     "text": [
      "Covariance matrix:\n",
      "[[64.33333333 64.33333333 64.33333333]\n",
      " [64.33333333 64.33333333 64.33333333]\n",
      " [64.33333333 64.33333333 64.33333333]]\n",
      "Correlation matrix:\n",
      "[[1. 1. 1.]\n",
      " [1. 1. 1.]\n",
      " [1. 1. 1.]]\n"
     ]
    }
   ],
   "source": [
    "'''Create a Matrix of MXN dimension representing the M-dimensional feature vector for N number of samples i. e (i,j)th entry \n",
    "of the matrix represents the ith feature of jth sample. Write a program to compute the covariance matrix and correlation matrix. \n",
    "Comment on takeaways from these matrixes.'''\n",
    "\n",
    "import numpy as np\n",
    "matrix = np.array([[10,11,12], [17,18,19], [26,27,28]])\n",
    "covariance_matrix = np.cov(matrix, rowvar=False)\n",
    "correlation_matrix = np.corrcoef(matrix, rowvar=False)\n",
    "print(\"Covariance matrix:\")\n",
    "print(covariance_matrix)\n",
    "print(\"Correlation matrix:\")\n",
    "print(correlation_matrix)\n"
   ]
  },
  {
   "cell_type": "code",
   "execution_count": null,
   "id": "15dc67c3",
   "metadata": {},
   "outputs": [],
   "source": []
  }
 ],
 "metadata": {
  "kernelspec": {
   "display_name": "Python 3 (ipykernel)",
   "language": "python",
   "name": "python3"
  },
  "language_info": {
   "codemirror_mode": {
    "name": "ipython",
    "version": 3
   },
   "file_extension": ".py",
   "mimetype": "text/x-python",
   "name": "python",
   "nbconvert_exporter": "python",
   "pygments_lexer": "ipython3",
   "version": "3.11.5"
  }
 },
 "nbformat": 4,
 "nbformat_minor": 5
}
