{
 "cells": [
  {
   "cell_type": "code",
   "execution_count": 2,
   "id": "632b7911",
   "metadata": {},
   "outputs": [
    {
     "name": "stdout",
     "output_type": "stream",
     "text": [
      "     Unnamed: 0  total_bill   tip     sex smoker   day    time  size\n",
      "0             0   16.990000  1.01  Female     No   Sun  Dinner     2\n",
      "1             1   21.360195  1.66    Male     No   Sun  Dinner     3\n",
      "2             2   21.010000  3.50    Male     No   Sun  Dinner     3\n",
      "3             3   23.680000  3.31    Male     No   Sun  Dinner     2\n",
      "4             4   24.590000  3.61  Female     No   Sun  Dinner     4\n",
      "..          ...         ...   ...     ...    ...   ...     ...   ...\n",
      "239         239   29.030000  5.92    Male     No   Sat  Dinner     3\n",
      "240         240   27.180000  2.00  Female    Yes   Sat  Dinner     2\n",
      "241         241   22.670000  2.00    Male    Yes   Sat  Dinner     2\n",
      "242         242   17.820000  1.75    Male     No   Sat  Dinner     2\n",
      "243         243   18.780000  3.00  Female     No  Thur  Dinner     2\n",
      "\n",
      "[244 rows x 8 columns]\n"
     ]
    }
   ],
   "source": [
    "import pandas as pd\n",
    "df = pd.read_csv(\"tips.csv\")\n",
    "df.replace(\"\", float(\"nan\"), inplace=True)\n",
    "for col in df.columns:\n",
    "    if df[col].dtype == \"float64\":\n",
    "        df[col].fillna(df[col].mean(), inplace=True)\n",
    "    elif df[col].dtype == \"object\":\n",
    "        df[col].fillna(df[col].mode()[0], inplace=True)\n",
    "print(df)"
   ]
  },
  {
   "cell_type": "code",
   "execution_count": 4,
   "id": "281eeec1",
   "metadata": {},
   "outputs": [
    {
     "name": "stdout",
     "output_type": "stream",
     "text": [
      "Label Encoded DataFrame:\n",
      "   Unnamed: 0  total_bill   tip  sex  smoker  day  time  size\n",
      "0           0       16.99  1.01    0       0    2     0     2\n",
      "1           1         NaN  1.66    1       0    2     0     3\n",
      "2           2       21.01  3.50    1       0    2     0     3\n",
      "3           3       23.68  3.31    1       0    2     0     2\n",
      "4           4       24.59  3.61    0       0    2     0     4\n",
      "\n",
      "One-Hot Encoded DataFrame:\n",
      "   Unnamed: 0  total_bill   tip  size  sex_Male  smoker_Yes  day_Sat  day_Sun  \\\n",
      "0           0       16.99  1.01     2         0           0        0        1   \n",
      "1           1         NaN  1.66     3         1           0        0        1   \n",
      "2           2       21.01  3.50     3         1           0        0        1   \n",
      "3           3       23.68  3.31     2         1           0        0        1   \n",
      "4           4       24.59  3.61     4         0           0        0        1   \n",
      "\n",
      "   day_Thur  time_Lunch  \n",
      "0         0           0  \n",
      "1         0           0  \n",
      "2         0           0  \n",
      "3         0           0  \n",
      "4         0           0  \n",
      "\n",
      "Ordinal Encoded DataFrame:\n",
      "   Unnamed: 0  total_bill   tip     sex smoker  day  time  size\n",
      "0           0       16.99  1.01  Female     No  3.0   1.0     2\n",
      "1           1         NaN  1.66    Male     No  3.0   1.0     3\n",
      "2           2       21.01  3.50    Male     No  3.0   1.0     3\n",
      "3           3       23.68  3.31    Male     No  3.0   1.0     2\n",
      "4           4       24.59  3.61  Female     No  3.0   1.0     4\n"
     ]
    }
   ],
   "source": [
    "import pandas as pd\n",
    "from sklearn.preprocessing import LabelEncoder, OneHotEncoder, OrdinalEncoder\n",
    "\n",
    "df = pd.read_csv(\"tips.csv\")\n",
    "\n",
    "cat_cols = ['sex', 'smoker', 'day', 'time']\n",
    "\n",
    "label_encoder = LabelEncoder()\n",
    "df_label_encoded = df.copy()\n",
    "df_label_encoded[cat_cols] = df_label_encoded[cat_cols].apply(label_encoder.fit_transform)\n",
    "\n",
    "df_onehot_encoded = pd.get_dummies(df, columns=cat_cols, drop_first=True)\n",
    "\n",
    "ordinal_encoder = OrdinalEncoder(categories=[['Thur', 'Fri', 'Sat', 'Sun'], ['Lunch', 'Dinner']])\n",
    "df_ordinal_encoded = df.copy()\n",
    "df_ordinal_encoded[['day', 'time']] = ordinal_encoder.fit_transform(df[['day', 'time']])\n",
    "\n",
    "print(\"Label Encoded DataFrame:\")\n",
    "print(df_label_encoded.head())\n",
    "\n",
    "print(\"\\nOne-Hot Encoded DataFrame:\")\n",
    "print(df_onehot_encoded.head())\n",
    "\n",
    "print(\"\\nOrdinal Encoded DataFrame:\")\n",
    "print(df_ordinal_encoded.head())"
   ]
  },
  {
   "cell_type": "code",
   "execution_count": 5,
   "id": "df101130",
   "metadata": {},
   "outputs": [
    {
     "name": "stdout",
     "output_type": "stream",
     "text": [
      "Min-Max Scaled DataFrame:\n",
      "   Unnamed: 0  total_bill       tip     sex smoker  day    time  size\n",
      "0           0    0.291579  0.001111  Female     No  Sun  Dinner   0.2\n",
      "1           1         NaN  0.073333    Male     No  Sun  Dinner   0.4\n",
      "2           2    0.375786  0.277778    Male     No  Sun  Dinner   0.4\n",
      "3           3    0.431713  0.256667    Male     No  Sun  Dinner   0.2\n",
      "4           4    0.450775  0.290000  Female     No  Sun  Dinner   0.6\n",
      "\n",
      "Standard Scaled DataFrame:\n",
      "   Unnamed: 0  total_bill       tip     sex smoker  day    time      size\n",
      "0           0   -0.494024 -1.439947  Female     No  Sun  Dinner -0.600193\n",
      "1           1         NaN -0.969205    Male     No  Sun  Dinner  0.453383\n",
      "2           2   -0.039587  0.363356    Male     No  Sun  Dinner  0.453383\n",
      "3           3    0.262240  0.225754    Male     No  Sun  Dinner -0.600193\n",
      "4           4    0.365110  0.443020  Female     No  Sun  Dinner  1.506958\n",
      "\n",
      "Z-score Scaled DataFrame:\n",
      "   Unnamed: 0  total_bill       tip     sex smoker  day    time      size\n",
      "0           0   -0.494024 -1.439947  Female     No  Sun  Dinner -0.600193\n",
      "1           1         NaN -0.969205    Male     No  Sun  Dinner  0.453383\n",
      "2           2   -0.039587  0.363356    Male     No  Sun  Dinner  0.453383\n",
      "3           3    0.262240  0.225754    Male     No  Sun  Dinner -0.600193\n",
      "4           4    0.365110  0.443020  Female     No  Sun  Dinner  1.506958\n"
     ]
    }
   ],
   "source": [
    "import pandas as pd\n",
    "from sklearn.preprocessing import MinMaxScaler, StandardScaler\n",
    "\n",
    "df = pd.read_csv(\"tips.csv\")\n",
    "\n",
    "num_cols = ['total_bill', 'tip', 'size']\n",
    "\n",
    "min_max_scaler = MinMaxScaler()\n",
    "df_min_max_scaled = df.copy()\n",
    "df_min_max_scaled[num_cols] = min_max_scaler.fit_transform(df[num_cols])\n",
    "\n",
    "standard_scaler = StandardScaler()\n",
    "df_standard_scaled = df.copy()\n",
    "df_standard_scaled[num_cols] = standard_scaler.fit_transform(df[num_cols])\n",
    "\n",
    "z_score_scaler = StandardScaler()\n",
    "df_z_score_scaled = df.copy()\n",
    "df_z_score_scaled[num_cols] = z_score_scaler.fit_transform(df[num_cols])\n",
    "\n",
    "print(\"Min-Max Scaled DataFrame:\")\n",
    "print(df_min_max_scaled.head())\n",
    "\n",
    "print(\"\\nStandard Scaled DataFrame:\")\n",
    "print(df_standard_scaled.head())\n",
    "\n",
    "print(\"\\nZ-score Scaled DataFrame:\")\n",
    "print(df_z_score_scaled.head())"
   ]
  },
  {
   "cell_type": "code",
   "execution_count": 6,
   "id": "0cd4ab1b",
   "metadata": {},
   "outputs": [
    {
     "name": "stdout",
     "output_type": "stream",
     "text": [
      "     Unnamed: 0  total_bill   tip     sex smoker   day    time  size  \\\n",
      "0             0       16.99  1.01  Female     No   Sun  Dinner     2   \n",
      "1             1         NaN  1.66    Male     No   Sun  Dinner     3   \n",
      "2             2       21.01  3.50    Male     No   Sun  Dinner     3   \n",
      "3             3       23.68  3.31    Male     No   Sun  Dinner     2   \n",
      "4             4       24.59  3.61  Female     No   Sun  Dinner     4   \n",
      "..          ...         ...   ...     ...    ...   ...     ...   ...   \n",
      "239         239       29.03  5.92    Male     No   Sat  Dinner     3   \n",
      "240         240       27.18  2.00  Female    Yes   Sat  Dinner     2   \n",
      "241         241       22.67  2.00    Male    Yes   Sat  Dinner     2   \n",
      "242         242       17.82  1.75    Male     No   Sat  Dinner     2   \n",
      "243         243       18.78  3.00  Female     No  Thur  Dinner     2   \n",
      "\n",
      "     tip_percentage  avg_tip_percentage  \n",
      "0          0.059447            0.165877  \n",
      "1               NaN            0.151660  \n",
      "2          0.166587            0.151660  \n",
      "3          0.139780            0.165877  \n",
      "4          0.146808            0.145949  \n",
      "..              ...                 ...  \n",
      "239        0.203927            0.151660  \n",
      "240        0.073584            0.165877  \n",
      "241        0.088222            0.165877  \n",
      "242        0.098204            0.165877  \n",
      "243        0.159744            0.165877  \n",
      "\n",
      "[244 rows x 10 columns]\n"
     ]
    }
   ],
   "source": [
    "import pandas as pd\n",
    "\n",
    "df['tip_percentage'] = df['tip'] / df['total_bill']\n",
    "\n",
    "average_tip_percentage = df.groupby('size')['tip_percentage'].mean().reset_index()\n",
    "\n",
    "average_tip_percentage.rename(columns={'tip_percentage': 'avg_tip_percentage'}, inplace=True)\n",
    "\n",
    "df = pd.merge(df, average_tip_percentage, on='size', how='left')\n",
    "\n",
    "print(df)"
   ]
  },
  {
   "cell_type": "code",
   "execution_count": 10,
   "id": "11886e16",
   "metadata": {},
   "outputs": [
    {
     "name": "stdout",
     "output_type": "stream",
     "text": [
      "   total_bill   tip       bill_and_tip_class\n",
      "0       16.99  1.01             Normal-bills\n",
      "1       10.34  1.66             Normal-bills\n",
      "2       21.01  3.50  Highest-bills-with-tips\n",
      "3       23.68  3.31  Highest-bills-with-tips\n",
      "4       24.59  3.61  Highest-bills-with-tips\n",
      "5       25.29  4.71  Highest-bills-with-tips\n",
      "6        8.77  2.00             Normal-bills\n",
      "7       26.88  3.12  Highest-bills-with-tips\n",
      "8       15.04  1.96             Normal-bills\n",
      "9       14.78  3.23  Highest-bills-with-tips\n"
     ]
    }
   ],
   "source": [
    "import pandas as pd\n",
    "\n",
    "data = {\n",
    "    'total_bill': [16.99, 10.34, 21.01, 23.68, 24.59, 25.29, 8.77, 26.88, 15.04, 14.78],\n",
    "    'tip': [1.01, 1.66, 3.5, 3.31, 3.61, 4.71, 2.0, 3.12, 1.96, 3.23]\n",
    "}\n",
    "\n",
    "df = pd.DataFrame(data)\n",
    "\n",
    "def classify_bills(row):\n",
    "    if row['total_bill'] > 10 and row['tip'] > 3:\n",
    "        return 'Highest-bills-with-tips'\n",
    "    else:\n",
    "        return 'Normal-bills'\n",
    "\n",
    "df['bill_and_tip_class'] = df.apply(classify_bills, axis=1)\n",
    "print(df)"
   ]
  },
  {
   "cell_type": "code",
   "execution_count": null,
   "id": "bc3b752b",
   "metadata": {},
   "outputs": [],
   "source": []
  }
 ],
 "metadata": {
  "kernelspec": {
   "display_name": "Python 3 (ipykernel)",
   "language": "python",
   "name": "python3"
  },
  "language_info": {
   "codemirror_mode": {
    "name": "ipython",
    "version": 3
   },
   "file_extension": ".py",
   "mimetype": "text/x-python",
   "name": "python",
   "nbconvert_exporter": "python",
   "pygments_lexer": "ipython3",
   "version": "3.9.12"
  }
 },
 "nbformat": 4,
 "nbformat_minor": 5
}
