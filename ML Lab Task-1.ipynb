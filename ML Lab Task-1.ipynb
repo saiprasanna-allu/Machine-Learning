{
 "cells": [
  {
   "cell_type": "code",
   "execution_count": 2,
   "id": "0e138648",
   "metadata": {},
   "outputs": [
    {
     "name": "stdout",
     "output_type": "stream",
     "text": [
      "array after multiplication\n",
      "[ 5 24 45 70]\n"
     ]
    }
   ],
   "source": [
    "'''1. Write a NumPy program to multiply two given arrays of same size element-by-\n",
    "element.'''\n",
    "\n",
    "import numpy as np\n",
    "array1=np.array([5,8,9,10])\n",
    "array2=np.array([1,3,5,7])\n",
    "result=array1*array2\n",
    "print(\"array after multiplication\")\n",
    "print(result)\n"
   ]
  },
  {
   "cell_type": "code",
   "execution_count": 3,
   "id": "9eb13fa3",
   "metadata": {},
   "outputs": [
    {
     "name": "stdout",
     "output_type": "stream",
     "text": [
      "Indices of missing data:\n",
      "[False  True False  True False  True]\n"
     ]
    }
   ],
   "source": [
    "'''2. Write a NumPy program to find the missing data in a given array'''\n",
    "\n",
    "import numpy as np\n",
    "arr1=np.array([1,np.nan,3,np.nan,5,np.nan])\n",
    "missed_indices=np.isnan(arr1)\n",
    "print(\"Indices of missing data:\")\n",
    "print(missed_indices)\n"
   ]
  },
  {
   "cell_type": "code",
   "execution_count": 5,
   "id": "af7a6ec7",
   "metadata": {},
   "outputs": [
    {
     "name": "stdout",
     "output_type": "stream",
     "text": [
      "custom_array1: [ 0 10 20 30 40]\n",
      "custom_array2: [0, 30]\n",
      "Compare each element of custom_array1 and custom_array2\n",
      "[ True False False  True False]\n"
     ]
    }
   ],
   "source": [
    "'''3. Write a NumPy program to test whether each element of a 1-D array is also present in\n",
    "a second array.'''\n",
    "\n",
    "import numpy as np\n",
    "custom_array1 = np.array([0, 10, 20, 30, 40])\n",
    "print(\"custom_array1:\", custom_array1)\n",
    "custom_array2 = [0, 30]\n",
    "print(\"custom_array2:\", custom_array2)\n",
    "print(\"Compare each element of custom_array1 and custom_array2\")\n",
    "print(np.in1d(custom_array1, custom_array2))\n"
   ]
  },
  {
   "cell_type": "code",
   "execution_count": 6,
   "id": "a5bc05bf",
   "metadata": {},
   "outputs": [
    {
     "name": "stdout",
     "output_type": "stream",
     "text": [
      " successfully Array saved to path_array.txt\n"
     ]
    }
   ],
   "source": [
    "'''4. Write a NumPy program to save a NumPy array to a text file.'''\n",
    "\n",
    "import numpy as np\n",
    "data=np.array([[4,5,6], [7,8,9], [10,11,12]])\n",
    "file_path='path_array.txt'\n",
    "np.savetxt(file_path,data,fmt='%d',delimiter=',')\n",
    "print(\" successfully Array saved to\",file_path)"
   ]
  },
  {
   "cell_type": "code",
   "execution_count": 7,
   "id": "be1c5ac2",
   "metadata": {},
   "outputs": [
    {
     "name": "stdout",
     "output_type": "stream",
     "text": [
      "Custom 1-D array of 30 evenly spaced elements between 2.5 and 6.5, inclusive:\n",
      "[2.5        2.63793103 2.77586207 2.9137931  3.05172414 3.18965517\n",
      " 3.32758621 3.46551724 3.60344828 3.74137931 3.87931034 4.01724138\n",
      " 4.15517241 4.29310345 4.43103448 4.56896552 4.70689655 4.84482759\n",
      " 4.98275862 5.12068966 5.25862069 5.39655172 5.53448276 5.67241379\n",
      " 5.81034483 5.94827586 6.0862069  6.22413793 6.36206897 6.5       ]\n"
     ]
    }
   ],
   "source": [
    "''' 5. Write a NumPy program to Create a 1-D array of 30 evenly spaced elements between\n",
    "2.5. and 6.5, inclusive.'''\n",
    "\n",
    "import numpy as np\n",
    "custom_array = np.linspace(2.5, 6.5, 30)\n",
    "print(\"Custom 1-D array of 30 evenly spaced elements between 2.5 and 6.5, inclusive:\")\n",
    "print(custom_array)\n"
   ]
  },
  {
   "cell_type": "code",
   "execution_count": 8,
   "id": "235c11b3",
   "metadata": {},
   "outputs": [],
   "source": [
    "                             # Introduction to Pandas (Series and Dataframes)"
   ]
  },
  {
   "cell_type": "code",
   "execution_count": 21,
   "id": "95c89d02",
   "metadata": {},
   "outputs": [
    {
     "name": "stdout",
     "output_type": "stream",
     "text": [
      "Original Series:\n",
      "0       [5, 6, 7]\n",
      "1    [17, 18, 19]\n",
      "2    [51, 55, 56]\n",
      "dtype: object\n",
      "\n",
      "Flattened Series:\n",
      "0     5\n",
      "1     6\n",
      "2     7\n",
      "3    17\n",
      "4    18\n",
      "5    19\n",
      "6    51\n",
      "7    55\n",
      "8    56\n",
      "dtype: int64\n"
     ]
    }
   ],
   "source": [
    "'''1. Write a Pandas program to convert Series of lists to one Series.'''\n",
    "\n",
    "import pandas as pd\n",
    "custom_series = pd.Series([[5,6,7], [17,18,19], [51,55,56]])\n",
    "flattened_result = pd.Series([item for sublist in custom_series for item in sublist])\n",
    "print(\"Original Series:\")\n",
    "print(custom_series)\n",
    "print(\"\\nFlattened Series:\")\n",
    "print(flattened_result)\n"
   ]
  },
  {
   "cell_type": "code",
   "execution_count": 23,
   "id": "a0bd8ca9",
   "metadata": {},
   "outputs": [
    {
     "name": "stdout",
     "output_type": "stream",
     "text": [
      "Altered Series:\n",
      "P    1\n",
      "R    2\n",
      "A    3\n",
      "S    4\n",
      "N    5\n",
      "dtype: int64\n",
      "\n",
      "Subset based on the adjusted condition:\n",
      "A    3\n",
      "S    4\n",
      "N    5\n",
      "dtype: int64\n"
     ]
    }
   ],
   "source": [
    "'''2. Write a Pandas program to create a subset of a given series based on value and\n",
    "condition.'''\n",
    "\n",
    "import pandas as pd\n",
    "data_dict = {'P': 1, 'R': 2, 'A': 3, 'S': 4, 'N': 5}\n",
    "custom_series = pd.Series(data_dict)\n",
    "filter_value = 2\n",
    "custom_condition = lambda x: x > filter_value\n",
    "filtered_subset = custom_series[custom_series.apply(custom_condition)]\n",
    "print(\"Altered Series:\")\n",
    "print(custom_series)\n",
    "print(\"\\nSubset based on the adjusted condition:\")\n",
    "print(filtered_subset)\n"
   ]
  },
  {
   "cell_type": "code",
   "execution_count": 26,
   "id": "54fbdc29",
   "metadata": {},
   "outputs": [
    {
     "name": "stdout",
     "output_type": "stream",
     "text": [
      "0      Other\n",
      "1    tuesday\n",
      "2      Other\n",
      "3      Other\n",
      "4    tuesday\n",
      "5      Other\n",
      "6      Other\n",
      "7      Other\n",
      "8    tuesday\n",
      "dtype: object\n"
     ]
    }
   ],
   "source": [
    "'''3. Write a Pandas program to display most frequent value in a given series and replace\n",
    "everything else as &#39;Other&#39; in the series.'''\n",
    "\n",
    "import pandas as pd\n",
    "s = pd.Series(['sunday', 'tuesday', 'monday', 'friday', 'tuesday', 'monday', 'friday', 'sunday', 'tuesday'])\n",
    "most_frequent_value = s.value_counts().index[0]\n",
    "s = s.apply(lambda x: x if x == most_frequent_value else 'Other')\n",
    "print(s)\n"
   ]
  },
  {
   "cell_type": "code",
   "execution_count": 29,
   "id": "8888e47f",
   "metadata": {},
   "outputs": [
    {
     "name": "stdout",
     "output_type": "stream",
     "text": [
      "Positions of numbers that are multiples of 5:\n",
      "[1, 2, 3, 4, 5, 6]\n"
     ]
    }
   ],
   "source": [
    "'''4. Write a Pandas program to find the positions of numbers that are multiples of 5 of a\n",
    "given series.'''\n",
    "\n",
    "import pandas as pd\n",
    "numbers = pd.Series([1, 25, 30, 45, 50, 65, 70])\n",
    "positions = numbers[numbers % 5 == 0].index.tolist()\n",
    "print(\"Positions of numbers that are multiples of 5:\")\n",
    "print(positions)\n"
   ]
  },
  {
   "cell_type": "code",
   "execution_count": 33,
   "id": "96c80b2f",
   "metadata": {},
   "outputs": [
    {
     "name": "stdout",
     "output_type": "stream",
     "text": [
      "Number of characters in each word:\n",
      "0    8\n",
      "1    5\n",
      "2    8\n",
      "3    7\n",
      "4    6\n",
      "dtype: int64\n"
     ]
    }
   ],
   "source": [
    "'''5. Write a Pandas program to calculate the number of characters in each word in a given\n",
    "series.'''\n",
    "\n",
    "import pandas as pd\n",
    "words_series = pd.Series(['prasanna', 'divya', 'premitha', 'kavitha','pavani'])\n",
    "word_lengths = words_series.str.len()\n",
    "print(\"Number of characters in each word:\")\n",
    "print(word_lengths)\n"
   ]
  },
  {
   "cell_type": "code",
   "execution_count": 36,
   "id": "3e5ddf7b",
   "metadata": {},
   "outputs": [
    {
     "name": "stdout",
     "output_type": "stream",
     "text": [
      "Converted Dates:\n",
      "0   2022-01-03\n",
      "1   2022-06-03\n",
      "2   2022-11-03\n",
      "dtype: datetime64[ns]\n"
     ]
    }
   ],
   "source": [
    "'''6. Write a Pandas program to convert year-month string to dates adding a specified day\n",
    "of the month.'''\n",
    "\n",
    "import pandas as pd\n",
    "year_month_series = pd.Series(['2022-01', '2022-06', '2022-11'])\n",
    "specified_day = 3  # Choose your specified day\n",
    "converted_dates = pd.to_datetime(year_month_series + '-' + str(specified_day), format='%Y-%m-%d')\n",
    "print(\"Converted Dates:\")\n",
    "print(converted_dates)\n"
   ]
  },
  {
   "cell_type": "code",
   "execution_count": 55,
   "id": "5e43faf9",
   "metadata": {},
   "outputs": [
    {
     "name": "stdout",
     "output_type": "stream",
     "text": [
      "DataFrame:\n",
      "             Name  Age        City\n",
      "Person1  prasanna   20       vizag\n",
      "Person2     Raghu   30      Guntur\n",
      "Person3  Premitha   40      Ongole\n",
      "Person4     Divya   40  Vijayawada\n",
      "Person5    pavani   50     Chennai\n"
     ]
    }
   ],
   "source": [
    "'''7. Write a Pandas program to create and display a DataFrame from a specified\n",
    "dictionary data which has the index labels.'''\n",
    "\n",
    "import pandas as pd\n",
    "data = {'Name': ['prasanna', 'Raghu', 'Premitha','Divya','pavani'],\n",
    "        'Age': [20, 30, 40,40,50],\n",
    "        'City': [ 'vizag','Guntur', 'Ongole','Vijayawada', 'Chennai']}\n",
    "\n",
    "index_labels = ['Person1', 'Person2', 'Person3','Person4','Person5']\n",
    "df = pd.DataFrame(data, index=index_labels)\n",
    "print(\"DataFrame:\")\n",
    "print(df)\n"
   ]
  },
  {
   "cell_type": "code",
   "execution_count": 51,
   "id": "e967b8e7",
   "metadata": {},
   "outputs": [
    {
     "name": "stdout",
     "output_type": "stream",
     "text": [
      "Filtered Rows:\n",
      "  student_name  exam_attempts\n",
      "0       pavani              3\n"
     ]
    }
   ],
   "source": [
    "'''8. Write a Pandas program to select the rows where the number of attempts in the\n",
    "examination is greater than 2.'''\n",
    "\n",
    "import pandas as pd\n",
    "custom_data = {'student_name': ['pavani', 'Divya', 'premitha'],\n",
    "               'exam_attempts': [3, 1, 2]}\n",
    "custom_df = pd.DataFrame(custom_data)\n",
    "filtered_rows = custom_df[custom_df['exam_attempts'] > 2]\n",
    "print(\"Filtered Rows:\")\n",
    "print(filtered_rows)\n"
   ]
  },
  {
   "cell_type": "code",
   "execution_count": 50,
   "id": "b579064f",
   "metadata": {},
   "outputs": [
    {
     "name": "stdout",
     "output_type": "stream",
     "text": [
      "DataFrame after concatenating new row 'k':\n",
      "  student_name  exam_attempts\n",
      "0     Premitha              3\n",
      "1     Prasanna              1\n",
      "2        Raghu              2\n",
      "3       Pavani              4\n",
      "\n",
      "Original DataFrame after deleting the new row:\n",
      "  student_name  exam_attempts\n",
      "0     Premitha              3\n",
      "1     Prasanna              1\n",
      "2        Raghu              2\n"
     ]
    }
   ],
   "source": [
    "'''9. Write a Pandas program to append a new row &#39;k&#39; to data frame with given values for\n",
    "each column. Now delete the new row and return the original DataFrame.'''\n",
    "\n",
    "import pandas as pd\n",
    "custom_data = {'student_name': ['Premitha', 'Prasanna', 'Raghu'],\n",
    "               'exam_attempts': [3, 1, 2]}\n",
    "\n",
    "custom_df = pd.DataFrame(custom_data)\n",
    "new_entry = {'student_name': 'Pavani', 'exam_attempts': 4}\n",
    "new_df = pd.DataFrame([new_entry], columns=['student_name', 'exam_attempts'])\n",
    "\n",
    "custom_df = pd.concat([custom_df, new_df], ignore_index=True)\n",
    "print(\"DataFrame after concatenating new row 'k':\")\n",
    "print(custom_df)\n",
    "custom_df = custom_df.drop(custom_df.index[-1])\n",
    "print(\"\\nOriginal DataFrame after deleting the new row:\")\n",
    "print(custom_df)\n"
   ]
  },
  {
   "cell_type": "code",
   "execution_count": 48,
   "id": "2ef450f0",
   "metadata": {},
   "outputs": [
    {
     "name": "stdout",
     "output_type": "stream",
     "text": [
      "Sorted DataFrame:\n",
      "     name  score\n",
      "1   Raghu     90\n",
      "0  Pavani     85\n",
      "2   Divya     75\n"
     ]
    }
   ],
   "source": [
    "'''10. Write a Pandas program to sort the DataFrame first by &#39;name&#39; in descending order,\n",
    "then by &#39;score&#39; in ascending order.'''\n",
    "\n",
    "import pandas as pd\n",
    "data = {'name': ['Pavani', 'Raghu', 'Divya'],\n",
    "        'score': [85, 90, 75]}\n",
    "df = pd.DataFrame(data)\n",
    "df = df.sort_values(by=['name', 'score'], ascending=[False, True])\n",
    "print(\"Sorted DataFrame:\")\n",
    "print(df)\n"
   ]
  },
  {
   "cell_type": "code",
   "execution_count": 47,
   "id": "d6ff06c0",
   "metadata": {},
   "outputs": [
    {
     "name": "stdout",
     "output_type": "stream",
     "text": [
      "DataFrame after replacing 'eligibility' column values:\n",
      "  student_name  eligibility\n",
      "0     Prasanna         True\n",
      "1        Raghu        False\n",
      "2     Premitha         True\n"
     ]
    }
   ],
   "source": [
    "'''11. Write a Pandas program to replace the &#39;qualify&#39; column contains the values &#39;yes&#39; and\n",
    "&#39;no&#39; with True and False.'''\n",
    "\n",
    "import pandas as pd\n",
    "custom_data = {'student_name': ['Prasanna', 'Raghu', 'Premitha'],\n",
    "               'eligibility': ['yes', 'no', 'yes']}\n",
    "custom_df = pd.DataFrame(custom_data)\n",
    "custom_df['eligibility'] = custom_df['eligibility'].map({'yes': True, 'no': False})\n",
    "print(\"DataFrame after replacing 'eligibility' column values:\")\n",
    "print(custom_df)\n"
   ]
  },
  {
   "cell_type": "code",
   "execution_count": 56,
   "id": "08f48dcd",
   "metadata": {},
   "outputs": [
    {
     "name": "stdout",
     "output_type": "stream",
     "text": [
      "DataFrame after removing infinite values:\n",
      "   Column1  Column2\n",
      "0      1.0      5.0\n"
     ]
    }
   ],
   "source": [
    "'''12. Write a Pandas program to remove infinite values from a given DataFrame.'''\n",
    "import pandas as pd\n",
    "import numpy as np\n",
    "custom_data = {'Column1': [1, 2, np.inf, 4],\n",
    "               'Column2': [5, np.inf, 7, np.inf]}\n",
    "custom_df = pd.DataFrame(custom_data)\n",
    "custom_df.replace([np.inf, -np.inf], np.nan, inplace=True)\n",
    "custom_df.dropna(inplace=True)\n",
    "print(\"DataFrame after removing infinite values:\")\n",
    "print(custom_df)\n"
   ]
  },
  {
   "cell_type": "code",
   "execution_count": null,
   "id": "f2f67a15",
   "metadata": {},
   "outputs": [],
   "source": []
  }
 ],
 "metadata": {
  "kernelspec": {
   "display_name": "Python 3 (ipykernel)",
   "language": "python",
   "name": "python3"
  },
  "language_info": {
   "codemirror_mode": {
    "name": "ipython",
    "version": 3
   },
   "file_extension": ".py",
   "mimetype": "text/x-python",
   "name": "python",
   "nbconvert_exporter": "python",
   "pygments_lexer": "ipython3",
   "version": "3.9.13"
  }
 },
 "nbformat": 4,
 "nbformat_minor": 5
}
